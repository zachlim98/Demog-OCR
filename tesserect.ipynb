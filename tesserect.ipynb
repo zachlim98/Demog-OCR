{
 "metadata": {
  "language_info": {
   "codemirror_mode": {
    "name": "ipython",
    "version": 3
   },
   "file_extension": ".py",
   "mimetype": "text/x-python",
   "name": "python",
   "nbconvert_exporter": "python",
   "pygments_lexer": "ipython3",
   "version": "3.8.5"
  },
  "orig_nbformat": 2,
  "kernelspec": {
   "name": "python385jvsc74a57bd0048f1fa9a33d9a89442c8aba85d23c95ec4be7278da4853ec993d63bd37cc981",
   "display_name": "Python 3.8.5 64-bit ('base': conda)"
  }
 },
 "nbformat": 4,
 "nbformat_minor": 2,
 "cells": [
  {
   "cell_type": "code",
   "execution_count": 2,
   "metadata": {},
   "outputs": [],
   "source": [
    "import pytesseract\n",
    "from PIL import Image\n",
    "import pandas as pd\n",
    "import io"
   ]
  },
  {
   "cell_type": "code",
   "execution_count": 4,
   "metadata": {},
   "outputs": [],
   "source": [
    "pytesseract.pytesseract.tesseract_cmd = R'C:\\Program Files (x86)\\Tesseract-OCR\\tesseract.exe'"
   ]
  },
  {
   "cell_type": "code",
   "execution_count": 31,
   "metadata": {},
   "outputs": [
    {
     "output_type": "stream",
     "name": "stdout",
     "text": [
      "\\Screenshot_1.png\n\\Screenshot_2.png\n\\Screenshot_3.png\n\\Screenshot_4.png\n"
     ]
    }
   ],
   "source": [
    "for i in range(1,5):\n",
    "    filename = \"\\Screenshot_\" + str(i) + \".png\"\n",
    "    print(filename)"
   ]
  },
  {
   "cell_type": "code",
   "execution_count": 22,
   "metadata": {},
   "outputs": [],
   "source": [
    "tex = pytesseract.image_to_string(Image.open(R'C:\\Users\\Zachary\\Desktop\\Screenshot_1.png'))"
   ]
  },
  {
   "cell_type": "code",
   "execution_count": 21,
   "metadata": {},
   "outputs": [
    {
     "output_type": "execute_result",
     "data": {
      "text/plain": [
       "' \\n\\n \\n\\n \\n\\nage interval uqx 1x an\\n0 l 0.14 100000 90615\\n1 4 0.07 85992 332453\\n5 5 0.02 ? 396608\\n10 5 0.01 78409 ?\\n15 5 0.01 77425 ?\\n20 5 0.02 76296 378066\\n25 5 0.02 74930 371026\\n30 5 0.02 73480 ?\\n35 5 0.03 71712 353041\\n40 5 0.04 69504 340105\\n45 5 0.06 66538 322762\\n50 5 0.09 62567 299492\\n55 5 0.12 57230 269101\\n60 5 0.17 ? 230056\\n65 5 0.24 41612 183521\\n70 5 0.33 31797 132929\\n75 5 0.43 21374 84099\\n80 5 0.57 12265 30663\\nT50 1250429\\n& 20567\\n\\n \\n\\n'"
      ]
     },
     "metadata": {},
     "execution_count": 21
    }
   ],
   "source": [
    "tex"
   ]
  },
  {
   "cell_type": "code",
   "execution_count": 27,
   "metadata": {},
   "outputs": [
    {
     "output_type": "execute_result",
     "data": {
      "text/plain": [
       "      0         1     2       3       4\n",
       "6   age  interval   uqx      1x      an\n",
       "7     0         l  0.14  100000   90615\n",
       "8     1         4  0.07   85992  332453\n",
       "9     5         5  0.02       ?  396608\n",
       "10   10         5  0.01   78409       ?\n",
       "11   15         5  0.01   77425       ?\n",
       "12   20         5  0.02   76296  378066\n",
       "13   25         5  0.02   74930  371026\n",
       "14   30         5  0.02   73480       ?\n",
       "15   35         5  0.03   71712  353041\n",
       "16   40         5  0.04   69504  340105\n",
       "17   45         5  0.06   66538  322762\n",
       "18   50         5  0.09   62567  299492\n",
       "19   55         5  0.12   57230  269101\n",
       "20   60         5  0.17       ?  230056\n",
       "21   65         5  0.24   41612  183521\n",
       "22   70         5  0.33   31797  132929\n",
       "23   75         5  0.43   21374   84099\n",
       "24   80         5  0.57   12265   30663"
      ],
      "text/html": "<div>\n<style scoped>\n    .dataframe tbody tr th:only-of-type {\n        vertical-align: middle;\n    }\n\n    .dataframe tbody tr th {\n        vertical-align: top;\n    }\n\n    .dataframe thead th {\n        text-align: right;\n    }\n</style>\n<table border=\"1\" class=\"dataframe\">\n  <thead>\n    <tr style=\"text-align: right;\">\n      <th></th>\n      <th>0</th>\n      <th>1</th>\n      <th>2</th>\n      <th>3</th>\n      <th>4</th>\n    </tr>\n  </thead>\n  <tbody>\n    <tr>\n      <th>6</th>\n      <td>age</td>\n      <td>interval</td>\n      <td>uqx</td>\n      <td>1x</td>\n      <td>an</td>\n    </tr>\n    <tr>\n      <th>7</th>\n      <td>0</td>\n      <td>l</td>\n      <td>0.14</td>\n      <td>100000</td>\n      <td>90615</td>\n    </tr>\n    <tr>\n      <th>8</th>\n      <td>1</td>\n      <td>4</td>\n      <td>0.07</td>\n      <td>85992</td>\n      <td>332453</td>\n    </tr>\n    <tr>\n      <th>9</th>\n      <td>5</td>\n      <td>5</td>\n      <td>0.02</td>\n      <td>?</td>\n      <td>396608</td>\n    </tr>\n    <tr>\n      <th>10</th>\n      <td>10</td>\n      <td>5</td>\n      <td>0.01</td>\n      <td>78409</td>\n      <td>?</td>\n    </tr>\n    <tr>\n      <th>11</th>\n      <td>15</td>\n      <td>5</td>\n      <td>0.01</td>\n      <td>77425</td>\n      <td>?</td>\n    </tr>\n    <tr>\n      <th>12</th>\n      <td>20</td>\n      <td>5</td>\n      <td>0.02</td>\n      <td>76296</td>\n      <td>378066</td>\n    </tr>\n    <tr>\n      <th>13</th>\n      <td>25</td>\n      <td>5</td>\n      <td>0.02</td>\n      <td>74930</td>\n      <td>371026</td>\n    </tr>\n    <tr>\n      <th>14</th>\n      <td>30</td>\n      <td>5</td>\n      <td>0.02</td>\n      <td>73480</td>\n      <td>?</td>\n    </tr>\n    <tr>\n      <th>15</th>\n      <td>35</td>\n      <td>5</td>\n      <td>0.03</td>\n      <td>71712</td>\n      <td>353041</td>\n    </tr>\n    <tr>\n      <th>16</th>\n      <td>40</td>\n      <td>5</td>\n      <td>0.04</td>\n      <td>69504</td>\n      <td>340105</td>\n    </tr>\n    <tr>\n      <th>17</th>\n      <td>45</td>\n      <td>5</td>\n      <td>0.06</td>\n      <td>66538</td>\n      <td>322762</td>\n    </tr>\n    <tr>\n      <th>18</th>\n      <td>50</td>\n      <td>5</td>\n      <td>0.09</td>\n      <td>62567</td>\n      <td>299492</td>\n    </tr>\n    <tr>\n      <th>19</th>\n      <td>55</td>\n      <td>5</td>\n      <td>0.12</td>\n      <td>57230</td>\n      <td>269101</td>\n    </tr>\n    <tr>\n      <th>20</th>\n      <td>60</td>\n      <td>5</td>\n      <td>0.17</td>\n      <td>?</td>\n      <td>230056</td>\n    </tr>\n    <tr>\n      <th>21</th>\n      <td>65</td>\n      <td>5</td>\n      <td>0.24</td>\n      <td>41612</td>\n      <td>183521</td>\n    </tr>\n    <tr>\n      <th>22</th>\n      <td>70</td>\n      <td>5</td>\n      <td>0.33</td>\n      <td>31797</td>\n      <td>132929</td>\n    </tr>\n    <tr>\n      <th>23</th>\n      <td>75</td>\n      <td>5</td>\n      <td>0.43</td>\n      <td>21374</td>\n      <td>84099</td>\n    </tr>\n    <tr>\n      <th>24</th>\n      <td>80</td>\n      <td>5</td>\n      <td>0.57</td>\n      <td>12265</td>\n      <td>30663</td>\n    </tr>\n  </tbody>\n</table>\n</div>"
     },
     "metadata": {},
     "execution_count": 27
    }
   ],
   "source": [
    "pd.DataFrame([tex.split(' ') for tex in tex.split('\\n')]).dropna()"
   ]
  },
  {
   "cell_type": "code",
   "execution_count": 4,
   "metadata": {},
   "outputs": [],
   "source": [
    "writer = pd.ExcelWriter('pandas_simple.xlsx', engine='xlsxwriter')"
   ]
  },
  {
   "cell_type": "code",
   "execution_count": 5,
   "metadata": {},
   "outputs": [],
   "source": [
    "df.to_excel(writer, sheet_name='Sheet1')"
   ]
  },
  {
   "cell_type": "code",
   "execution_count": 6,
   "metadata": {},
   "outputs": [],
   "source": [
    "writer.save()"
   ]
  },
  {
   "cell_type": "code",
   "execution_count": null,
   "metadata": {},
   "outputs": [],
   "source": []
  }
 ]
}